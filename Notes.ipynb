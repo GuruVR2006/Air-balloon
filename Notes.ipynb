{
  "nbformat": 4,
  "nbformat_minor": 0,
  "metadata": {
    "colab": {
      "provenance": [],
      "authorship_tag": "ABX9TyPySCq2DShmLToLdTFLSzaA",
      "include_colab_link": true
    },
    "kernelspec": {
      "name": "python3",
      "display_name": "Python 3"
    },
    "language_info": {
      "name": "python"
    }
  },
  "cells": [
    {
      "cell_type": "markdown",
      "metadata": {
        "id": "view-in-github",
        "colab_type": "text"
      },
      "source": [
        "<a href=\"https://colab.research.google.com/github/GuruVR2006/Air-balloon/blob/main/Notes.ipynb\" target=\"_parent\"><img src=\"https://colab.research.google.com/assets/colab-badge.svg\" alt=\"Open In Colab\"/></a>"
      ]
    },
    {
      "cell_type": "code",
      "execution_count": null,
      "metadata": {
        "id": "5m3f-hZeBuMy"
      },
      "outputs": [],
      "source": [
        "# Guru Ramesh\n",
        "# 09/07/2023\n",
        "# Comparison is the thief of joy"
      ]
    },
    {
      "cell_type": "markdown",
      "source": [
        "##Comments\n",
        "* This is to be able to make necessary comments in your code\n",
        "*We use comments to describe the algorithm to the reader\n",
        "1. We can use multi-line comments"
      ],
      "metadata": {
        "id": "ofMTeUFHIY9J"
      }
    },
    {
      "cell_type": "code",
      "source": [
        "#Calculations\n",
        "#Addition\n",
        "5+7"
      ],
      "metadata": {
        "colab": {
          "base_uri": "https://localhost:8080/"
        },
        "id": "Wuh6UzXLJKuA",
        "outputId": "16660672-5fa2-496a-8489-47856a4f41f0"
      },
      "execution_count": null,
      "outputs": [
        {
          "output_type": "execute_result",
          "data": {
            "text/plain": [
              "12"
            ]
          },
          "metadata": {},
          "execution_count": 16
        }
      ]
    },
    {
      "cell_type": "code",
      "source": [
        "#Multiplication\n",
        "6 * 0"
      ],
      "metadata": {
        "colab": {
          "base_uri": "https://localhost:8080/"
        },
        "id": "I3NwcS6pKCc3",
        "outputId": "3e3c3374-d897-4865-b85e-87a1561696a8"
      },
      "execution_count": null,
      "outputs": [
        {
          "output_type": "execute_result",
          "data": {
            "text/plain": [
              "0"
            ]
          },
          "metadata": {},
          "execution_count": 17
        }
      ]
    },
    {
      "cell_type": "code",
      "source": [
        "#Division\n",
        "49/2"
      ],
      "metadata": {
        "colab": {
          "base_uri": "https://localhost:8080/"
        },
        "id": "3qjnqr3dKNQj",
        "outputId": "17c791e6-f7f8-47b2-d59b-0be7b1fa2380"
      },
      "execution_count": null,
      "outputs": [
        {
          "output_type": "execute_result",
          "data": {
            "text/plain": [
              "24.5"
            ]
          },
          "metadata": {},
          "execution_count": 22
        }
      ]
    },
    {
      "cell_type": "markdown",
      "source": [
        "## STRINGS\n",
        "* A string is a sequence of characters that are represented by either \" \" or ' '\n",
        "* denoted by the term str"
      ],
      "metadata": {
        "id": "GOo73FKUKmyu"
      }
    },
    {
      "cell_type": "code",
      "source": [
        "type(\"Guru\")"
      ],
      "metadata": {
        "colab": {
          "base_uri": "https://localhost:8080/"
        },
        "id": "J6xFAwpvLEpE",
        "outputId": "99250a81-3d7f-48f7-b41b-d2085ff3728c"
      },
      "execution_count": null,
      "outputs": [
        {
          "output_type": "execute_result",
          "data": {
            "text/plain": [
              "str"
            ]
          },
          "metadata": {},
          "execution_count": 23
        }
      ]
    },
    {
      "cell_type": "code",
      "source": [
        "type('6')"
      ],
      "metadata": {
        "colab": {
          "base_uri": "https://localhost:8080/"
        },
        "id": "CIPLjZAsLLOV",
        "outputId": "9dbd5fbc-bb35-4e80-d1d7-673d498c77ae"
      },
      "execution_count": null,
      "outputs": [
        {
          "output_type": "execute_result",
          "data": {
            "text/plain": [
              "str"
            ]
          },
          "metadata": {},
          "execution_count": 24
        }
      ]
    },
    {
      "cell_type": "markdown",
      "source": [
        "#### PRINT FUNCTION\n",
        "* Used to display things\n"
      ],
      "metadata": {
        "id": "tojxEDQOLwRl"
      }
    },
    {
      "cell_type": "code",
      "source": [
        "print(\"Hello my name is Guru Ramesh!\")"
      ],
      "metadata": {
        "colab": {
          "base_uri": "https://localhost:8080/"
        },
        "id": "QiMagdW6LaC2",
        "outputId": "1aa76f3e-0b12-4208-9d5d-0b19e2aec0b1"
      },
      "execution_count": null,
      "outputs": [
        {
          "output_type": "stream",
          "name": "stdout",
          "text": [
            "Hello my name is Guru Ramesh!\n"
          ]
        }
      ]
    },
    {
      "cell_type": "code",
      "source": [
        "#print statements can be multiline\n",
        "print('My name is Guru',\" I live in Nanuet\")"
      ],
      "metadata": {
        "colab": {
          "base_uri": "https://localhost:8080/"
        },
        "id": "D-YPWJq1MIMF",
        "outputId": "06f7c6df-66b6-4a5b-c7f1-38389e41e9f1"
      },
      "execution_count": null,
      "outputs": [
        {
          "output_type": "stream",
          "name": "stdout",
          "text": [
            "My name is Guru  I live in Nanuet\n"
          ]
        }
      ]
    },
    {
      "cell_type": "code",
      "source": [
        "print('My name is Guru,'+\"I live in Nanuet\")"
      ],
      "metadata": {
        "colab": {
          "base_uri": "https://localhost:8080/"
        },
        "id": "UhYlIkxBMymE",
        "outputId": "52a2cca9-9d9f-4369-aa58-608b1d5f37f8"
      },
      "execution_count": null,
      "outputs": [
        {
          "output_type": "stream",
          "name": "stdout",
          "text": [
            "My name is Guru,I live in Nanuet\n"
          ]
        }
      ]
    },
    {
      "cell_type": "markdown",
      "source": [
        "We want to print the following statement:\n",
        "My name is Guru   \n",
        "\n",
        "and\n",
        "\n",
        "I come from India"
      ],
      "metadata": {
        "id": "4yhL9v-_OBnT"
      }
    },
    {
      "cell_type": "code",
      "source": [
        "print(\"My name is Guru\")\n",
        "print(\"and\")\n",
        "print(\"I'm from India\")"
      ],
      "metadata": {
        "colab": {
          "base_uri": "https://localhost:8080/"
        },
        "id": "aJeHqf06N_Oj",
        "outputId": "cd9beaaa-eb11-41b9-ec98-d02d5dd537f3"
      },
      "execution_count": 52,
      "outputs": [
        {
          "output_type": "stream",
          "name": "stdout",
          "text": [
            "My name is Guru\n",
            "and\n",
            "I'm from India\n"
          ]
        }
      ]
    },
    {
      "cell_type": "code",
      "source": [],
      "metadata": {
        "id": "Irr9ZmQ6YGAt"
      },
      "execution_count": null,
      "outputs": []
    }
  ]
}